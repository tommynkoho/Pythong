{
 "cells": [
  {
   "cell_type": "code",
   "execution_count": 8,
   "id": "a5a52a46",
   "metadata": {},
   "outputs": [],
   "source": [
    ">>> from openpyxl import Workbook\n",
    ">>> wb = Workbook()"
   ]
  },
  {
   "cell_type": "code",
   "execution_count": 9,
   "id": "877e54e2",
   "metadata": {},
   "outputs": [],
   "source": [
    ">>> ws = wb.active"
   ]
  },
  {
   "cell_type": "code",
   "execution_count": 10,
   "id": "84ef94c0",
   "metadata": {},
   "outputs": [],
   "source": [
    ">>> ws1 = wb.create_sheet(\"Mysheet\") # insert at the end (default)\n",
    "# or\n",
    ">>> ws2 = wb.create_sheet(\"Mysheet\", 0) # insert at first position\n",
    "# or\n",
    ">>> ws3 = wb.create_sheet(\"Mysheet\", -1) # insert at the penultimate position\n"
   ]
  },
  {
   "cell_type": "code",
   "execution_count": 11,
   "id": "237dfb49",
   "metadata": {},
   "outputs": [],
   "source": [
    "ws.title = \"New Title\""
   ]
  },
  {
   "cell_type": "code",
   "execution_count": 12,
   "id": "08fe6c2a",
   "metadata": {},
   "outputs": [],
   "source": [
    "ws.sheet_properties.tabColor = \"1072BA\""
   ]
  },
  {
   "cell_type": "code",
   "execution_count": 13,
   "id": "e81bfad5",
   "metadata": {},
   "outputs": [],
   "source": [
    ">>> ws3 = wb[\"New Title\"]"
   ]
  },
  {
   "cell_type": "code",
   "execution_count": 14,
   "id": "1558aae4",
   "metadata": {},
   "outputs": [
    {
     "name": "stdout",
     "output_type": "stream",
     "text": [
      "['Mysheet1', 'New Title', 'Mysheet2', 'Mysheet']\n"
     ]
    },
    {
     "data": {
      "text/plain": [
       "['Sheet2', 'New Title', 'Sheet1']"
      ]
     },
     "execution_count": 14,
     "metadata": {},
     "output_type": "execute_result"
    }
   ],
   "source": [
    ">>> print(wb.sheetnames)\n",
    "['Sheet2', 'New Title', 'Sheet1']"
   ]
  },
  {
   "cell_type": "code",
   "execution_count": 15,
   "id": "27b86710",
   "metadata": {},
   "outputs": [
    {
     "name": "stdout",
     "output_type": "stream",
     "text": [
      "Mysheet1\n",
      "New Title\n",
      "Mysheet2\n",
      "Mysheet\n"
     ]
    }
   ],
   "source": [
    ">>> for sheet in wb:\n",
    "...     print(sheet.title)"
   ]
  },
  {
   "cell_type": "code",
   "execution_count": 16,
   "id": "84d1ef8d",
   "metadata": {},
   "outputs": [],
   "source": [
    ">>> source = wb.active\n",
    ">>> target = wb.copy_worksheet(source)"
   ]
  },
  {
   "cell_type": "code",
   "execution_count": 17,
   "id": "b0967b37",
   "metadata": {},
   "outputs": [],
   "source": [
    ">>> wb = Workbook()\n",
    ">>> wb.save('balances.xlsx')"
   ]
  },
  {
   "cell_type": "code",
   "execution_count": null,
   "id": "8df8425c",
   "metadata": {},
   "outputs": [],
   "source": []
  },
  {
   "cell_type": "code",
   "execution_count": null,
   "id": "7c858764",
   "metadata": {},
   "outputs": [],
   "source": []
  }
 ],
 "metadata": {
  "kernelspec": {
   "display_name": "Python 3 (ipykernel)",
   "language": "python",
   "name": "python3"
  },
  "language_info": {
   "codemirror_mode": {
    "name": "ipython",
    "version": 3
   },
   "file_extension": ".py",
   "mimetype": "text/x-python",
   "name": "python",
   "nbconvert_exporter": "python",
   "pygments_lexer": "ipython3",
   "version": "3.9.7"
  }
 },
 "nbformat": 4,
 "nbformat_minor": 5
}
